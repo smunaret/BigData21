{
  "nbformat": 4,
  "nbformat_minor": 0,
  "metadata": {
    "kernelspec": {
      "display_name": "Python 3",
      "language": "python",
      "name": "python3"
    },
    "language_info": {
      "codemirror_mode": {
        "name": "ipython",
        "version": 3
      },
      "file_extension": ".py",
      "mimetype": "text/x-python",
      "name": "python",
      "nbconvert_exporter": "python",
      "pygments_lexer": "ipython3",
      "version": "3.7.6"
    },
    "colab": {
      "name": "Lab_ex_3_1.ipynb",
      "provenance": []
    }
  },
  "cells": [
    {
      "cell_type": "markdown",
      "metadata": {
        "id": "aq8bpmAq61WI"
      },
      "source": [
        "# Ex. 3.1 Hive\n",
        "We use the *pyHive* lib: https://github.com/dropbox/PyHive \n",
        "\n",
        "## Resources\n",
        "* [HQL cheat sheet](http://hortonworks.com/wp-content/uploads/2016/05/Hortonworks.CheatSheet.SQLtoHive.pdf)\n",
        "* [Hive reference](https://cwiki.apache.org/confluence/display/Hive/LanguageManual)\n",
        "\n",
        "## Install\n",
        "Install *pyHive* via *anaconda*"
      ]
    },
    {
      "cell_type": "code",
      "metadata": {
        "id": "RJLhEPqY61WK",
        "outputId": "adfccc8f-a23c-4124-dbc5-955e427911cf",
        "colab": {
          "base_uri": "https://localhost:8080/"
        }
      },
      "source": [
        "from platform import python_version\n",
        "\n",
        "print(python_version())"
      ],
      "execution_count": 65,
      "outputs": [
        {
          "output_type": "stream",
          "text": [
            "3.7.10\n"
          ],
          "name": "stdout"
        }
      ]
    },
    {
      "cell_type": "code",
      "metadata": {
        "id": "nHnFIq4sE4-f"
      },
      "source": [
        "# added\n",
        "!pip install -q condacolab"
      ],
      "execution_count": 21,
      "outputs": []
    },
    {
      "cell_type": "code",
      "metadata": {
        "id": "Uk_5gi-CEnXZ",
        "outputId": "b7dbf79e-bb83-4d6c-8199-52c81356f341",
        "colab": {
          "base_uri": "https://localhost:8080/"
        }
      },
      "source": [
        "# added\n",
        "import condacolab\n",
        "condacolab.install()"
      ],
      "execution_count": 22,
      "outputs": [
        {
          "output_type": "stream",
          "text": [
            "✨🍰✨ Everything looks OK!\n"
          ],
          "name": "stdout"
        }
      ]
    },
    {
      "cell_type": "code",
      "metadata": {
        "id": "Jmfpoh-Q61WK",
        "outputId": "2e12f263-53a7-4086-bde4-8d9a06766ff5",
        "colab": {
          "base_uri": "https://localhost:8080/"
        }
      },
      "source": [
        "!conda install -y pyhive"
      ],
      "execution_count": 23,
      "outputs": [
        {
          "output_type": "stream",
          "text": [
            "Collecting package metadata (current_repodata.json): - \b\b\\ \b\b| \b\b/ \b\b- \b\b\\ \b\b| \b\b/ \b\b- \b\b\\ \b\b| \b\bdone\n",
            "Solving environment: - \b\b\\ \b\b| \b\b/ \b\b- \b\b\\ \b\b| \b\b/ \b\b- \b\b\\ \b\b| \b\b/ \b\b- \b\bdone\n",
            "\n",
            "# All requested packages already installed.\n",
            "\n"
          ],
          "name": "stdout"
        }
      ]
    },
    {
      "cell_type": "code",
      "metadata": {
        "id": "wOQvbtNRBYmF"
      },
      "source": [
        "# added:\n",
        "#!pip install pyhive\n",
        "#!pip install thrift\n",
        "#!pip install python-pip gcc python-virtualenv cyrus-sasl-devel\n",
        "#!pip install sasl"
      ],
      "execution_count": 24,
      "outputs": []
    },
    {
      "cell_type": "code",
      "metadata": {
        "id": "MfeUvNXX61WK"
      },
      "source": [
        "#import libs\n",
        "from pyhive import hive\n",
        "from TCLIService.ttypes import TOperationState"
      ],
      "execution_count": 25,
      "outputs": []
    },
    {
      "cell_type": "code",
      "metadata": {
        "id": "9Zls2SFA61WK"
      },
      "source": [
        "# try to connect\n",
        "server=\"ec2-34-254-248-152.eu-west-1.compute.amazonaws.com\"\n",
        "cursor = hive.connect(server).cursor()"
      ],
      "execution_count": 26,
      "outputs": []
    },
    {
      "cell_type": "code",
      "metadata": {
        "id": "abRVoZUK61WK"
      },
      "source": [
        "#show our databases\n",
        "cursor.execute('show databases')"
      ],
      "execution_count": 27,
      "outputs": []
    },
    {
      "cell_type": "code",
      "metadata": {
        "id": "n88X1QUb61WL",
        "outputId": "30d1e075-6c9a-4882-f959-05d3a93adb2e",
        "colab": {
          "base_uri": "https://localhost:8080/"
        }
      },
      "source": [
        "#get data from execution\n",
        "cursor.fetchall()"
      ],
      "execution_count": 28,
      "outputs": [
        {
          "output_type": "execute_result",
          "data": {
            "text/plain": [
              "[('default',)]"
            ]
          },
          "metadata": {
            "tags": []
          },
          "execution_count": 28
        }
      ]
    },
    {
      "cell_type": "code",
      "metadata": {
        "id": "pbzzqOcN61WL"
      },
      "source": [
        "#use default db\n",
        "cursor.execute('use default')"
      ],
      "execution_count": 29,
      "outputs": []
    },
    {
      "cell_type": "code",
      "metadata": {
        "id": "FJXOD7eE61WL"
      },
      "source": [
        "#show tables in db\n",
        "cursor.execute('show tables')"
      ],
      "execution_count": 30,
      "outputs": []
    },
    {
      "cell_type": "code",
      "metadata": {
        "id": "r8t6piic61WL",
        "outputId": "96a83122-8381-4f1f-c369-4e84a9165eb7",
        "colab": {
          "base_uri": "https://localhost:8080/"
        }
      },
      "source": [
        "cursor.fetchall()"
      ],
      "execution_count": 31,
      "outputs": [
        {
          "output_type": "execute_result",
          "data": {
            "text/plain": [
              "[('employee',), ('salary',)]"
            ]
          },
          "metadata": {
            "tags": []
          },
          "execution_count": 31
        }
      ]
    },
    {
      "cell_type": "code",
      "metadata": {
        "id": "oS4GxxrY61WM",
        "outputId": "1e425760-937d-4e44-8f92-9d602c494003",
        "colab": {
          "base_uri": "https://localhost:8080/"
        }
      },
      "source": [
        "# get table layout\n",
        "cursor.execute('describe employee')\n",
        "cursor.fetchall()"
      ],
      "execution_count": 32,
      "outputs": [
        {
          "output_type": "execute_result",
          "data": {
            "text/plain": [
              "[('employee_id', 'int', ''),\n",
              " ('birthday', 'date', ''),\n",
              " ('first_name', 'string', ''),\n",
              " ('family_name', 'string', ''),\n",
              " ('gender', 'char(1)', ''),\n",
              " ('work_day', 'date', '')]"
            ]
          },
          "metadata": {
            "tags": []
          },
          "execution_count": 32
        }
      ]
    },
    {
      "cell_type": "code",
      "metadata": {
        "id": "xgAsScVY61WM"
      },
      "source": [
        "#select data\n",
        "cursor.execute('select * from employee limit 100')"
      ],
      "execution_count": 33,
      "outputs": []
    },
    {
      "cell_type": "code",
      "metadata": {
        "id": "Zn_SuuEt61WM"
      },
      "source": [
        "#get daata from selction\n",
        "employee = cursor.fetchall()"
      ],
      "execution_count": 34,
      "outputs": []
    },
    {
      "cell_type": "code",
      "metadata": {
        "id": "BfAYqnIg61WM",
        "outputId": "3cfda1d7-240f-48b3-e09c-9cceec451629",
        "colab": {
          "base_uri": "https://localhost:8080/"
        }
      },
      "source": [
        "len(employee) #this is a list"
      ],
      "execution_count": 35,
      "outputs": [
        {
          "output_type": "execute_result",
          "data": {
            "text/plain": [
              "100"
            ]
          },
          "metadata": {
            "tags": []
          },
          "execution_count": 35
        }
      ]
    },
    {
      "cell_type": "code",
      "metadata": {
        "id": "9OH_Qzgt61WM",
        "outputId": "03ebb986-283a-47ec-b60c-4a30a3531a8d",
        "colab": {
          "base_uri": "https://localhost:8080/"
        }
      },
      "source": [
        "#have a look\n",
        "employee[:10]"
      ],
      "execution_count": 36,
      "outputs": [
        {
          "output_type": "execute_result",
          "data": {
            "text/plain": [
              "[(10001, None, \"'Georgi'\", \"'Facello'\", \"'\", None),\n",
              " (10002, None, \"'Bezalel'\", \"'Simmel'\", \"'\", None),\n",
              " (10003, None, \"'Parto'\", \"'Bamford'\", \"'\", None),\n",
              " (10004, None, \"'Chirstian'\", \"'Koblick'\", \"'\", None),\n",
              " (10005, None, \"'Kyoichi'\", \"'Maliniak'\", \"'\", None),\n",
              " (10006, None, \"'Anneke'\", \"'Preusig'\", \"'\", None),\n",
              " (10007, None, \"'Tzvetan'\", \"'Zielinski'\", \"'\", None),\n",
              " (10008, None, \"'Saniya'\", \"'Kalloufi'\", \"'\", None),\n",
              " (10009, None, \"'Sumant'\", \"'Peac'\", \"'\", None),\n",
              " (10010, None, \"'Duangkaew'\", \"'Piveteau'\", \"'\", None)]"
            ]
          },
          "metadata": {
            "tags": []
          },
          "execution_count": 36
        }
      ]
    },
    {
      "cell_type": "code",
      "metadata": {
        "id": "xwMOzwB461WN",
        "outputId": "f8dcf72f-9683-4fc2-86f5-3fe19cba2cca",
        "colab": {
          "base_uri": "https://localhost:8080/"
        }
      },
      "source": [
        "# get salary table layout\n",
        "cursor.execute('describe salary')\n",
        "cursor.fetchall()"
      ],
      "execution_count": 37,
      "outputs": [
        {
          "output_type": "execute_result",
          "data": {
            "text/plain": [
              "[('employee_id', 'int', ''),\n",
              " ('salary', 'int', ''),\n",
              " ('start_date', 'date', ''),\n",
              " ('end_date', 'date', '')]"
            ]
          },
          "metadata": {
            "tags": []
          },
          "execution_count": 37
        }
      ]
    },
    {
      "cell_type": "code",
      "metadata": {
        "id": "f7z2k15F61WN"
      },
      "source": [
        "#select data\n",
        "cursor.execute('select * from salary limit 100')"
      ],
      "execution_count": 38,
      "outputs": []
    },
    {
      "cell_type": "code",
      "metadata": {
        "id": "OrtBFprf61WN"
      },
      "source": [
        "#get daata from selction\n",
        "salary = cursor.fetchall()"
      ],
      "execution_count": 39,
      "outputs": []
    },
    {
      "cell_type": "code",
      "metadata": {
        "id": "9PYkqUY761WN",
        "outputId": "96a8e88d-c448-40af-f749-c000c72a8fae",
        "colab": {
          "base_uri": "https://localhost:8080/"
        }
      },
      "source": [
        "salary[:10]"
      ],
      "execution_count": 40,
      "outputs": [
        {
          "output_type": "execute_result",
          "data": {
            "text/plain": [
              "[(10001, 60117, None, None),\n",
              " (10001, 62102, None, None),\n",
              " (10001, 66074, None, None),\n",
              " (10001, 66596, None, None),\n",
              " (10001, 66961, None, None),\n",
              " (10001, 71046, None, None),\n",
              " (10001, 74333, None, None),\n",
              " (10001, 75286, None, None),\n",
              " (10001, 75994, None, None),\n",
              " (10001, 76884, None, None)]"
            ]
          },
          "metadata": {
            "tags": []
          },
          "execution_count": 40
        }
      ]
    },
    {
      "cell_type": "markdown",
      "metadata": {
        "id": "CBoszLkJ61WN"
      },
      "source": [
        "## Ex 1\n",
        "Get employees sorted by ``family_name``. Return first 10 entries."
      ]
    },
    {
      "cell_type": "code",
      "metadata": {
        "id": "40atTDB361WO"
      },
      "source": [
        "cursor.execute(\"SELECT * FROM employee ORDER BY employee.family_name LIMIT 10\")"
      ],
      "execution_count": 51,
      "outputs": []
    },
    {
      "cell_type": "code",
      "metadata": {
        "id": "5PY2VAyK61WO",
        "outputId": "38ba668d-c0cc-4087-c6b6-99d9a9b4fc77",
        "colab": {
          "base_uri": "https://localhost:8080/"
        }
      },
      "source": [
        "cursor.fetchall()"
      ],
      "execution_count": 52,
      "outputs": [
        {
          "output_type": "execute_result",
          "data": {
            "text/plain": [
              "[(11761, None, \"'Bartek'\", \"'Aamodt'\", \"'\", None),\n",
              " (493102, None, \"'Srinidhi'\", \"'Aamodt'\", \"'\", None),\n",
              " (19898, None, \"'Vidar'\", \"'Aamodt'\", \"'\", None),\n",
              " (12791, None, \"'Mokhtar'\", \"'Aamodt'\", \"'\", None),\n",
              " (12516, None, \"'Sreenivas'\", \"'Aamodt'\", \"'\", None),\n",
              " (16572, None, \"'Matt'\", \"'Aamodt'\", \"'\", None),\n",
              " (18182, None, \"'Dekang'\", \"'Aamodt'\", \"'\", None),\n",
              " (493601, None, \"'Sreekrishna'\", \"'Aamodt'\", \"'\", None),\n",
              " (15427, None, \"'Aluzio'\", \"'Aamodt'\", \"'\", None),\n",
              " (17400, None, \"'Basim'\", \"'Aamodt'\", \"'\", None)]"
            ]
          },
          "metadata": {
            "tags": []
          },
          "execution_count": 52
        }
      ]
    },
    {
      "cell_type": "markdown",
      "metadata": {
        "id": "MkM3jCrR61WO"
      },
      "source": [
        "## Ex 2\n",
        "Get ``family_name`` and ``salary`` of employees sorted by salary. Return first 100 entries. Hint: you need to join both tables..."
      ]
    },
    {
      "cell_type": "code",
      "metadata": {
        "id": "He0j_bAs61WO"
      },
      "source": [
        "cursor.execute(\" SELECT employee.family_name, salary.salary FROM employee INNER JOIN salary ON employee.employee_id == salary.employee_id ORDER BY salary.salary DESC LIMIT 100\")\n",
        "data=cursor.fetchall()"
      ],
      "execution_count": 59,
      "outputs": []
    },
    {
      "cell_type": "code",
      "metadata": {
        "id": "_Kz2sVc5Iapn",
        "outputId": "5688a922-ebd6-4dcd-bfb5-1a424e06851c",
        "colab": {
          "base_uri": "https://localhost:8080/"
        }
      },
      "source": [
        "data"
      ],
      "execution_count": 60,
      "outputs": [
        {
          "output_type": "execute_result",
          "data": {
            "text/plain": [
              "[(\"'Pesch'\", 158220),\n",
              " (\"'Pesch'\", 157821),\n",
              " (\"'Mukaidono'\", 156286),\n",
              " (\"'Whitcomb'\", 155709),\n",
              " (\"'Luders'\", 155513),\n",
              " (\"'Alameldin'\", 155377),\n",
              " (\"'Alameldin'\", 155190),\n",
              " (\"'Alameldin'\", 154888),\n",
              " (\"'Alameldin'\", 154885),\n",
              " (\"'Baca'\", 154459),\n",
              " (\"'Meriste'\", 154376),\n",
              " (\"'Luders'\", 154227),\n",
              " (\"'Griswold'\", 153715),\n",
              " (\"'Pesch'\", 153458),\n",
              " (\"'Pesch'\", 153166),\n",
              " (\"'Chenoweth'\", 152710),\n",
              " (\"'Hatcliff'\", 152687),\n",
              " (\"'Mukaidono'\", 152576),\n",
              " (\"'Birdsall'\", 152412),\n",
              " (\"'Stanfel'\", 152220),\n",
              " (\"'Meriste'\", 152208),\n",
              " (\"'Whitcomb'\", 151929),\n",
              " (\"'Baca'\", 151768),\n",
              " (\"'Griswold'\", 151596),\n",
              " (\"'Meriste'\", 151565),\n",
              " (\"'Alameldin'\", 151484),\n",
              " (\"'Pesch'\", 151115),\n",
              " (\"'Chenoweth'\", 151080),\n",
              " (\"'Hatcliff'\", 150994),\n",
              " (\"'Meriste'\", 150993),\n",
              " (\"'Mukaidono'\", 150754),\n",
              " (\"'Moehrke'\", 150740),\n",
              " (\"'Birdsall'\", 150467),\n",
              " (\"'Luders'\", 150378),\n",
              " (\"'Junet'\", 150345),\n",
              " (\"'Kambil'\", 150052),\n",
              " (\"'Stanfel'\", 149693),\n",
              " (\"'Whitcomb'\", 149686),\n",
              " (\"'Alameldin'\", 149675),\n",
              " (\"'Pesch'\", 149571),\n",
              " (\"'Thambidurai'\", 149440),\n",
              " (\"'Luders'\", 149312),\n",
              " (\"'Griswold'\", 149241),\n",
              " (\"'Alameldin'\", 149208),\n",
              " (\"'Baca'\", 149140),\n",
              " (\"'Minakawa'\", 148820),\n",
              " (\"'Mukaidono'\", 148727),\n",
              " (\"'Birta'\", 148696),\n",
              " (\"'Kambil'\", 148448),\n",
              " (\"'Birta'\", 148212),\n",
              " (\"'Hatcliff'\", 147942),\n",
              " (\"'Kambil'\", 147702),\n",
              " (\"'Chenoweth'\", 147497),\n",
              " (\"'Sudbeck'\", 147480),\n",
              " (\"'Unni'\", 147469),\n",
              " (\"'Kambil'\", 147282),\n",
              " (\"'Birdsall'\", 147048),\n",
              " (\"'Junet'\", 146968),\n",
              " (\"'Chinin'\", 146882),\n",
              " (\"'Gruenwald'\", 146755),\n",
              " (\"'Teitelbaum'\", 146719),\n",
              " (\"'Meriste'\", 146703),\n",
              " (\"'Kobara'\", 146655),\n",
              " (\"'Meriste'\", 146588),\n",
              " (\"'Kobara'\", 146546),\n",
              " (\"'Moehrke'\", 146531),\n",
              " (\"'Alameldin'\", 146531),\n",
              " (\"'Worfolk'\", 146507),\n",
              " (\"'Birta'\", 146430),\n",
              " (\"'Chinin'\", 146414),\n",
              " (\"'Junot'\", 146292),\n",
              " (\"'Kambil'\", 146281),\n",
              " (\"'Muntz'\", 146280),\n",
              " (\"'Baca'\", 146222),\n",
              " (\"'Brookner'\", 146100),\n",
              " (\"'Wissmann'\", 145960),\n",
              " (\"'Whitcomb'\", 145940),\n",
              " (\"'Rosen'\", 145902),\n",
              " (\"'Baik'\", 145901),\n",
              " (\"'Birdsall'\", 145886),\n",
              " (\"'Meriste'\", 145773),\n",
              " (\"'Ramaiah'\", 145732),\n",
              " (\"'Pesch'\", 145711),\n",
              " (\"'Stanfel'\", 145681),\n",
              " (\"'Mukaidono'\", 145579),\n",
              " (\"'Brendel'\", 145441),\n",
              " (\"'Chenoweth'\", 145414),\n",
              " (\"'Kobara'\", 145362),\n",
              " (\"'Thambidurai'\", 145300),\n",
              " (\"'Sudbeck'\", 145283),\n",
              " (\"'Tischendorf'\", 145215),\n",
              " (\"'Teitelbaum'\", 145137),\n",
              " (\"'Warwick'\", 145128),\n",
              " (\"'Baca'\", 145077),\n",
              " (\"'Unni'\", 144971),\n",
              " (\"'Thambidurai'\", 144944),\n",
              " (\"'Luders'\", 144918),\n",
              " (\"'Griswold'\", 144904),\n",
              " (\"'Kobara'\", 144891),\n",
              " (\"'Minakawa'\", 144890)]"
            ]
          },
          "metadata": {
            "tags": []
          },
          "execution_count": 60
        }
      ]
    },
    {
      "cell_type": "markdown",
      "metadata": {
        "id": "KtIRfUTF61WO"
      },
      "source": [
        "## Ex 3\n",
        "Get the average salary by gender. Hint: use Group by"
      ]
    },
    {
      "cell_type": "code",
      "metadata": {
        "id": "1Twmxl5D61WO",
        "outputId": "bbd1921a-ff14-4ea5-8d51-0d3b194bd5a0",
        "colab": {
          "base_uri": "https://localhost:8080/"
        }
      },
      "source": [
        "cursor.execute(\" SELECT employee.gender, AVG(salary.salary) FROM employee INNER JOIN salary ON employee.employee_id == salary.employee_id GROUP BY employee.gender \")\n",
        "cursor.fetchall()"
      ],
      "execution_count": 78,
      "outputs": [
        {
          "output_type": "execute_result",
          "data": {
            "text/plain": [
              "[(\"'\", 63810.97721796859)]"
            ]
          },
          "metadata": {
            "tags": []
          },
          "execution_count": 78
        }
      ]
    },
    {
      "cell_type": "code",
      "metadata": {
        "id": "7798K6xzPx15",
        "outputId": "8361ee6c-62ca-451e-a70f-b885b08f2960",
        "colab": {
          "base_uri": "https://localhost:8080/"
        }
      },
      "source": [
        "cursor.execute(\" SELECT employee.gender, AVG(salary.salary) FROM employee JOIN salary ON employee.employee_id == salary.employee_id GROUP BY employee.gender \")\n",
        "cursor.fetchall()"
      ],
      "execution_count": 79,
      "outputs": [
        {
          "output_type": "execute_result",
          "data": {
            "text/plain": [
              "[(\"'\", 63810.97721796859)]"
            ]
          },
          "metadata": {
            "tags": []
          },
          "execution_count": 79
        }
      ]
    },
    {
      "cell_type": "code",
      "metadata": {
        "id": "Ao12jPlT61WO",
        "outputId": "053c8054-5e50-4b14-d455-0f78ef3ae55a",
        "colab": {
          "base_uri": "https://localhost:8080/"
        }
      },
      "source": [
        "cursor.execute( \"SELECT employee.first_name, employee.family_name, employee.gender FROM employee SORT BY employee.gender DESC LIMIT 50\")\n",
        "cursor.fetchall()"
      ],
      "execution_count": 77,
      "outputs": [
        {
          "output_type": "execute_result",
          "data": {
            "text/plain": [
              "[(\"'Sumant'\", \"'Peac'\", \"'\"),\n",
              " (\"'Moss'\", \"'Shanbhogue'\", \"'\"),\n",
              " (\"'Basil'\", \"'Tramer'\", \"'\"),\n",
              " (\"'Weiyi'\", \"'Meriste'\", \"'\"),\n",
              " (\"'Yongqiao'\", \"'Berztiss'\", \"'\"),\n",
              " (\"'Berni'\", \"'Genin'\", \"'\"),\n",
              " (\"'Guoxiang'\", \"'Nooteboom'\", \"'\"),\n",
              " (\"'Karsten'\", \"'Joslin'\", \"'\"),\n",
              " (\"'Florian'\", \"'Syrotiuk'\", \"'\"),\n",
              " (\"'Arif'\", \"'Merlo'\", \"'\"),\n",
              " (\"'Lillian'\", \"'Haddadi'\", \"'\"),\n",
              " (\"'Mayuko'\", \"'Warwick'\", \"'\"),\n",
              " (\"'Bader'\", \"'Swan'\", \"'\"),\n",
              " (\"'Shahaf'\", \"'Famili'\", \"'\"),\n",
              " (\"'Yishay'\", \"'Tzvieli'\", \"'\"),\n",
              " (\"'Adamantios'\", \"'Portugali'\", \"'\"),\n",
              " (\"'Prasadram'\", \"'Heyers'\", \"'\"),\n",
              " (\"'Mingsen'\", \"'Casley'\", \"'\"),\n",
              " (\"'Anneke'\", \"'Preusig'\", \"'\"),\n",
              " (\"'Tzvetan'\", \"'Zielinski'\", \"'\"),\n",
              " (\"'Patricia'\", \"'Breugel'\", \"'\"),\n",
              " (\"'Yinghua'\", \"'Dredge'\", \"'\"),\n",
              " (\"'Berhard'\", \"'Lenart'\", \"'\"),\n",
              " (\"'Parto'\", \"'Bamford'\", \"'\"),\n",
              " (\"'Chirstian'\", \"'Koblick'\", \"'\"),\n",
              " (\"'Kyoichi'\", \"'Maliniak'\", \"'\"),\n",
              " (\"'Duangkaew'\", \"'Piveteau'\", \"'\"),\n",
              " (\"'Mary'\", \"'Sluis'\", \"'\"),\n",
              " (\"'Patricio'\", \"'Bridgland'\", \"'\"),\n",
              " (\"'Eberhardt'\", \"'Terkki'\", \"'\"),\n",
              " (\"'Kazuhito'\", \"'Cappelletti'\", \"'\"),\n",
              " (\"'Cristinel'\", \"'Bouloucos'\", \"'\"),\n",
              " (\"'Kazuhide'\", \"'Peha'\", \"'\"),\n",
              " (\"'Ramzi'\", \"'Erde'\", \"'\"),\n",
              " (\"'Bojan'\", \"'Montemayor'\", \"'\"),\n",
              " (\"'Suzette'\", \"'Pettey'\", \"'\"),\n",
              " (\"'Georgi'\", \"'Facello'\", \"'\"),\n",
              " (\"'Divier'\", \"'Reistad'\", \"'\"),\n",
              " (\"'Domenick'\", \"'Tempesti'\", \"'\"),\n",
              " (\"'Otmar'\", \"'Herbst'\", \"'\"),\n",
              " (\"'Elvis'\", \"'Demeyer'\", \"'\"),\n",
              " (\"'Sachin'\", \"'Tsukuda'\", \"'\"),\n",
              " (\"'Alain'\", \"'Chappelet'\", \"'\"),\n",
              " (\"'Pradeep'\", \"'Makrucki'\", \"'\"),\n",
              " (\"'Huan'\", \"'Lortz'\", \"'\"),\n",
              " (\"'Alejandro'\", \"'Brender'\", \"'\"),\n",
              " (\"'Uri'\", \"'Lenart'\", \"'\"),\n",
              " (\"'Magy'\", \"'Stamatiou'\", \"'\"),\n",
              " (\"'Lucien'\", \"'Rosenbaum'\", \"'\"),\n",
              " (\"'Zvonko'\", \"'Nyanchama'\", \"'\")]"
            ]
          },
          "metadata": {
            "tags": []
          },
          "execution_count": 77
        }
      ]
    }
  ]
}