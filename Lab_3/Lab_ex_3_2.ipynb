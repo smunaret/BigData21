{
 "cells": [
  {
   "cell_type": "markdown",
   "metadata": {},
   "source": [
    "# Ex. 3.2 HBASE\n",
    "We use the *HappyBase* lib: https://happybase.readthedocs.io/en/latest/installation.html"
   ]
  },
  {
   "cell_type": "code",
   "execution_count": 1,
   "metadata": {},
   "outputs": [
    {
     "name": "stdout",
     "output_type": "stream",
     "text": [
      "Collecting package metadata (repodata.json): failed\n",
      "\n",
      "CondaHTTPError: HTTP 000 CONNECTION FAILED for url <https://conda.anaconda.org/conda-forge/linux-64/repodata.json>\n",
      "Elapsed: -\n",
      "\n",
      "An HTTP error occurred when trying to retrieve this URL.\n",
      "HTTP errors are often intermittent, and a simple retry will get you on your way.\n",
      "'https://conda.anaconda.org/conda-forge/linux-64'\n",
      "\n",
      "\n"
     ]
    }
   ],
   "source": [
    "! conda install -c conda-forge -y happybase"
   ]
  },
  {
   "cell_type": "code",
   "execution_count": 24,
   "metadata": {},
   "outputs": [],
   "source": [
    "# imports\n",
    "import happybase\n",
    "\n"
   ]
  },
  {
   "cell_type": "code",
   "execution_count": 25,
   "metadata": {},
   "outputs": [],
   "source": [
    "# try to connect\n",
    "server=\"ec2-34-254-248-152.eu-west-1.compute.amazonaws.com\" #need to change this for every lab-session\n",
    "connection = happybase.Connection(server)"
   ]
  },
  {
   "cell_type": "code",
   "execution_count": 26,
   "metadata": {},
   "outputs": [],
   "source": [
    "families = {\n",
    "    'cf1': dict(max_versions=10),\n",
    "    'cf2': dict(max_versions=1, block_cache_enabled=False),\n",
    "    'cf3': dict(),  # use defaults\n",
    "}"
   ]
  },
  {
   "cell_type": "code",
   "execution_count": 27,
   "metadata": {},
   "outputs": [],
   "source": [
    "#connection.create_table('lab3', families)  # table allredy exists"
   ]
  },
  {
   "cell_type": "code",
   "execution_count": 28,
   "metadata": {
    "scrolled": true
   },
   "outputs": [
    {
     "name": "stdout",
     "output_type": "stream",
     "text": [
      "[b'49a5b1a_employees', b'lab3', b'tm_user_id_employees']\n"
     ]
    }
   ],
   "source": [
    "print(connection.tables())"
   ]
  },
  {
   "cell_type": "code",
   "execution_count": 29,
   "metadata": {},
   "outputs": [],
   "source": [
    "#connect to a table\n",
    "table = connection.table('lab3')"
   ]
  },
  {
   "cell_type": "code",
   "execution_count": 30,
   "metadata": {},
   "outputs": [
    {
     "data": {
      "text/plain": [
       "{b'cf1': {'name': b'cf1:',\n",
       "  'max_versions': 10,\n",
       "  'compression': b'NONE',\n",
       "  'in_memory': False,\n",
       "  'bloom_filter_type': b'NONE',\n",
       "  'bloom_filter_vector_size': 0,\n",
       "  'bloom_filter_nb_hashes': 0,\n",
       "  'block_cache_enabled': False,\n",
       "  'time_to_live': 2147483647},\n",
       " b'cf2': {'name': b'cf2:',\n",
       "  'max_versions': 1,\n",
       "  'compression': b'NONE',\n",
       "  'in_memory': False,\n",
       "  'bloom_filter_type': b'NONE',\n",
       "  'bloom_filter_vector_size': 0,\n",
       "  'bloom_filter_nb_hashes': 0,\n",
       "  'block_cache_enabled': False,\n",
       "  'time_to_live': 2147483647},\n",
       " b'cf3': {'name': b'cf3:',\n",
       "  'max_versions': 3,\n",
       "  'compression': b'NONE',\n",
       "  'in_memory': False,\n",
       "  'bloom_filter_type': b'NONE',\n",
       "  'bloom_filter_vector_size': 0,\n",
       "  'bloom_filter_nb_hashes': 0,\n",
       "  'block_cache_enabled': False,\n",
       "  'time_to_live': 2147483647}}"
      ]
     },
     "execution_count": 30,
     "metadata": {},
     "output_type": "execute_result"
    }
   ],
   "source": [
    "#see column families\n",
    "table.families()"
   ]
  },
  {
   "cell_type": "code",
   "execution_count": 31,
   "metadata": {},
   "outputs": [],
   "source": [
    "#insert something\n",
    "table.put('row 6', {'cf1:col7': '19.33', 'cf1:col8': '44'})\n"
   ]
  },
  {
   "cell_type": "code",
   "execution_count": 32,
   "metadata": {},
   "outputs": [],
   "source": [
    "#read table\n",
    "res=table.scan()"
   ]
  },
  {
   "cell_type": "code",
   "execution_count": 33,
   "metadata": {},
   "outputs": [
    {
     "name": "stdout",
     "output_type": "stream",
     "text": [
      "b'row 6' {b'cf1:col7': b'19.33', b'cf1:col8': b'44'}\n",
      "b'row 7' {b'cf1:col7': b'17.33', b'cf1:col8': b'1337'}\n"
     ]
    }
   ],
   "source": [
    "for key,row in res:\n",
    "    print(key,row)"
   ]
  },
  {
   "cell_type": "markdown",
   "metadata": {},
   "source": [
    "# Ex 1\n",
    "Employee data in HBASE.\n",
    "* create a new table to hold the employee data -> use a distinct name, like ``user_id_employees``\n",
    "* How would you create the column families?\n",
    "* read data from ``employees.csv`` and put it into the table ->  use  ``import csv`` to read the data -> [API docs](https://docs.python.org/3/library/csv.html)\n",
    "* use batch-processing to enter more than one entry per transaction\n",
    "* alter some entries of the table with ``timestamps``\n",
    "* perform some sample scans for the latest entries"
   ]
  },
  {
   "cell_type": "code",
   "execution_count": null,
   "metadata": {},
   "outputs": [],
   "source": []
  }
 ],
 "metadata": {
  "kernelspec": {
   "display_name": "Python 3",
   "language": "python",
   "name": "python3"
  },
  "language_info": {
   "codemirror_mode": {
    "name": "ipython",
    "version": 3
   },
   "file_extension": ".py",
   "mimetype": "text/x-python",
   "name": "python",
   "nbconvert_exporter": "python",
   "pygments_lexer": "ipython3",
   "version": "3.7.6"
  }
 },
 "nbformat": 4,
 "nbformat_minor": 4
}
