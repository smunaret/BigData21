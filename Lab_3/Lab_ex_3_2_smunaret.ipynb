{
  "nbformat": 4,
  "nbformat_minor": 0,
  "metadata": {
    "kernelspec": {
      "display_name": "Python 3",
      "language": "python",
      "name": "python3"
    },
    "language_info": {
      "codemirror_mode": {
        "name": "ipython",
        "version": 3
      },
      "file_extension": ".py",
      "mimetype": "text/x-python",
      "name": "python",
      "nbconvert_exporter": "python",
      "pygments_lexer": "ipython3",
      "version": "3.7.6"
    },
    "colab": {
      "name": "Lab_ex_3_2.ipynb",
      "provenance": []
    }
  },
  "cells": [
    {
      "cell_type": "markdown",
      "metadata": {
        "id": "qn348pX-610g"
      },
      "source": [
        "# Ex. 3.2 HBASE\n",
        "We use the *HappyBase* lib: https://happybase.readthedocs.io/en/latest/installation.html"
      ]
    },
    {
      "cell_type": "code",
      "metadata": {
        "id": "THgxe-bJKndq"
      },
      "source": [
        "# added\n",
        "!pip install -q condacolab"
      ],
      "execution_count": 68,
      "outputs": []
    },
    {
      "cell_type": "code",
      "metadata": {
        "colab": {
          "base_uri": "https://localhost:8080/"
        },
        "id": "LGDep7GHKpkE",
        "outputId": "bf17d6cd-7583-4f6a-e292-da35e6f598fe"
      },
      "source": [
        "# added\n",
        "import condacolab\n",
        "condacolab.install()"
      ],
      "execution_count": 69,
      "outputs": [
        {
          "output_type": "stream",
          "text": [
            "✨🍰✨ Everything looks OK!\n"
          ],
          "name": "stdout"
        }
      ]
    },
    {
      "cell_type": "code",
      "metadata": {
        "colab": {
          "base_uri": "https://localhost:8080/"
        },
        "id": "I_KaW9QG610i",
        "outputId": "90184d19-09b0-4b25-df97-d67a774f5015"
      },
      "source": [
        "! conda install -c conda-forge -y happybase"
      ],
      "execution_count": 70,
      "outputs": [
        {
          "output_type": "stream",
          "text": [
            "Collecting package metadata (current_repodata.json): - \b\b\\ \b\b| \b\b/ \b\b- \b\b\\ \b\b| \b\b/ \b\b- \b\b\\ \b\b| \b\b/ \b\b- \b\b\\ \b\bdone\n",
            "Solving environment: / \b\b- \b\b\\ \b\b| \b\b/ \b\b- \b\b\\ \b\b| \b\b/ \b\b- \b\bdone\n",
            "\n",
            "# All requested packages already installed.\n",
            "\n"
          ],
          "name": "stdout"
        }
      ]
    },
    {
      "cell_type": "code",
      "metadata": {
        "id": "Pu_054cQ610i"
      },
      "source": [
        "# imports\n",
        "import happybase\n",
        "\n"
      ],
      "execution_count": 71,
      "outputs": []
    },
    {
      "cell_type": "code",
      "metadata": {
        "id": "hp-rJaVi610j"
      },
      "source": [
        "# try to connect\n",
        "server=\"ec2-34-254-248-152.eu-west-1.compute.amazonaws.com\" #need to change this for every lab-session\n",
        "connection = happybase.Connection(server)"
      ],
      "execution_count": 72,
      "outputs": []
    },
    {
      "cell_type": "code",
      "metadata": {
        "id": "59kgDPL2610j"
      },
      "source": [
        "families = {\n",
        "    'cf1': dict(max_versions=10),\n",
        "    'cf2': dict(max_versions=1, block_cache_enabled=False),\n",
        "    'cf3': dict(),  # use defaults\n",
        "}"
      ],
      "execution_count": 73,
      "outputs": []
    },
    {
      "cell_type": "code",
      "metadata": {
        "id": "W8ibn9-z610j"
      },
      "source": [
        "#connection.create_table('lab3', families)  # table allredy exists"
      ],
      "execution_count": 74,
      "outputs": []
    },
    {
      "cell_type": "code",
      "metadata": {
        "scrolled": true,
        "colab": {
          "base_uri": "https://localhost:8080/"
        },
        "id": "edrTRVZv610j",
        "outputId": "5a2ed8bd-f4ce-4e2c-cbc6-ce3007390953"
      },
      "source": [
        "print(connection.tables())"
      ],
      "execution_count": 75,
      "outputs": [
        {
          "output_type": "stream",
          "text": [
            "[b'49a5b1a_employees', b'dh_user_id_employees', b'employee_Group2', b'employee_Group_2', b'group1_employee', b'lab3', b'mspitzna_employees', b'tm_user_id_employees', b'user_id_employees']\n"
          ],
          "name": "stdout"
        }
      ]
    },
    {
      "cell_type": "code",
      "metadata": {
        "id": "P3TJ1sA8610k"
      },
      "source": [
        "#connect to a table\n",
        "table = connection.table('lab3')"
      ],
      "execution_count": 76,
      "outputs": []
    },
    {
      "cell_type": "code",
      "metadata": {
        "colab": {
          "base_uri": "https://localhost:8080/"
        },
        "id": "2cqN_xn4610k",
        "outputId": "8fbf1c72-c33b-4d94-a01a-54e72191245a"
      },
      "source": [
        "#see column families\n",
        "table.families()"
      ],
      "execution_count": 77,
      "outputs": [
        {
          "output_type": "execute_result",
          "data": {
            "text/plain": [
              "{b'cf1': {'block_cache_enabled': False,\n",
              "  'bloom_filter_nb_hashes': 0,\n",
              "  'bloom_filter_type': b'NONE',\n",
              "  'bloom_filter_vector_size': 0,\n",
              "  'compression': b'NONE',\n",
              "  'in_memory': False,\n",
              "  'max_versions': 10,\n",
              "  'name': b'cf1:',\n",
              "  'time_to_live': 2147483647},\n",
              " b'cf2': {'block_cache_enabled': False,\n",
              "  'bloom_filter_nb_hashes': 0,\n",
              "  'bloom_filter_type': b'NONE',\n",
              "  'bloom_filter_vector_size': 0,\n",
              "  'compression': b'NONE',\n",
              "  'in_memory': False,\n",
              "  'max_versions': 1,\n",
              "  'name': b'cf2:',\n",
              "  'time_to_live': 2147483647},\n",
              " b'cf3': {'block_cache_enabled': False,\n",
              "  'bloom_filter_nb_hashes': 0,\n",
              "  'bloom_filter_type': b'NONE',\n",
              "  'bloom_filter_vector_size': 0,\n",
              "  'compression': b'NONE',\n",
              "  'in_memory': False,\n",
              "  'max_versions': 3,\n",
              "  'name': b'cf3:',\n",
              "  'time_to_live': 2147483647}}"
            ]
          },
          "metadata": {
            "tags": []
          },
          "execution_count": 77
        }
      ]
    },
    {
      "cell_type": "code",
      "metadata": {
        "id": "ghv_CNbZ610k"
      },
      "source": [
        "#insert something\n",
        "table.put('row 6', {'cf1:col7': '17.33', 'cf1:col8': '344'})\n"
      ],
      "execution_count": 78,
      "outputs": []
    },
    {
      "cell_type": "code",
      "metadata": {
        "id": "-r5H72ef610l"
      },
      "source": [
        "#read table\n",
        "res=table.scan()"
      ],
      "execution_count": 79,
      "outputs": []
    },
    {
      "cell_type": "code",
      "metadata": {
        "colab": {
          "base_uri": "https://localhost:8080/"
        },
        "id": "-HfDSy4x610l",
        "outputId": "5a386835-7eaa-4008-b687-e91ed2eba331"
      },
      "source": [
        "for key,row in res:\n",
        "    print(key,row)"
      ],
      "execution_count": 80,
      "outputs": [
        {
          "output_type": "stream",
          "text": [
            "b'row 6' {b'cf1:col7': b'17.33', b'cf1:col8': b'344'}\n",
            "b'row 7' {b'cf1:col7': b'17.33', b'cf1:col8': b'612'}\n"
          ],
          "name": "stdout"
        }
      ]
    },
    {
      "cell_type": "code",
      "metadata": {
        "colab": {
          "base_uri": "https://localhost:8080/"
        },
        "id": "OZIEPkyPM8NV",
        "outputId": "925d39cd-d378-45f9-f8cb-1bf373648d3f"
      },
      "source": [
        "# added\n",
        "table.row('row 6')"
      ],
      "execution_count": 81,
      "outputs": [
        {
          "output_type": "execute_result",
          "data": {
            "text/plain": [
              "{b'cf1:col7': b'17.33', b'cf1:col8': b'344'}"
            ]
          },
          "metadata": {
            "tags": []
          },
          "execution_count": 81
        }
      ]
    },
    {
      "cell_type": "markdown",
      "metadata": {
        "id": "Lr8ICxxg610l"
      },
      "source": [
        "# Ex 1\n",
        "Employee data in HBASE.\n",
        "* create a new table to hold the employee data -> use a distinct name, like ``user_id_employees``\n",
        "* How would you create the column families?\n",
        "* read data from ``employees.csv`` and put it into the table ->  use  ``import csv`` to read the data -> [API docs](https://docs.python.org/3/library/csv.html)\n",
        "* use batch-processing to enter more than one entry per transaction\n",
        "* alter some entries of the table with ``timestamps``\n",
        "* perform some sample scans for the latest entries"
      ]
    },
    {
      "cell_type": "code",
      "metadata": {
        "colab": {
          "base_uri": "https://localhost:8080/"
        },
        "id": "s9uTIDmmSDid",
        "outputId": "50e340d9-c6a2-4324-98df-c435bc4d7561"
      },
      "source": [
        "print(connection.tables())"
      ],
      "execution_count": 86,
      "outputs": [
        {
          "output_type": "stream",
          "text": [
            "[b'49a5b1a_employees', b'dh_user_id_employees', b'employee_Group2', b'employee_Group_2', b'employees_smunaret', b'group1_employee', b'lab3', b'mspitzna_employees', b'tm_user_id_employees', b'user_id_employees']\n"
          ],
          "name": "stdout"
        }
      ]
    },
    {
      "cell_type": "code",
      "metadata": {
        "id": "CPf_KKmLRu1e"
      },
      "source": [
        "families = {\n",
        "    'cf1': dict(max_versions=10),\n",
        "    'cf2': dict(max_versions=1, block_cache_enabled=False),\n",
        "    'cf3': dict(),  # use defaults\n",
        "}"
      ],
      "execution_count": 83,
      "outputs": []
    },
    {
      "cell_type": "code",
      "metadata": {
        "id": "sFJZC7_z610l"
      },
      "source": [
        "connection.create_table('employees_smunaret',\n",
        "                        {\n",
        "                            'employee': dict(),\n",
        "                            'salary': dict()\n",
        "                        })"
      ],
      "execution_count": 84,
      "outputs": []
    },
    {
      "cell_type": "code",
      "metadata": {
        "id": "BO4yyV_MStAL"
      },
      "source": [
        "table = connection.table('employees_smunaret')"
      ],
      "execution_count": 85,
      "outputs": []
    },
    {
      "cell_type": "code",
      "metadata": {
        "id": "Ddi33SNAZr3r"
      },
      "source": [
        "import csv\n",
        "with open('employees.csv', newline='') as csvfile:\n",
        "  spamreader = csv.reader(csvfile, delimiter=',', quotechar=\"'\")"
      ],
      "execution_count": 109,
      "outputs": []
    },
    {
      "cell_type": "code",
      "metadata": {
        "colab": {
          "base_uri": "https://localhost:8080/"
        },
        "id": "iXPM9SNPVLIP",
        "outputId": "def4d437-bf24-4183-b2dd-2e429751caaa"
      },
      "source": [
        "import csv\n",
        "with open('employees.csv', newline='') as csvfile:\n",
        "  reader = csv.reader(csvfile, delimiter=' ', quotechar=\"|\")\n",
        "  reader_list = list(reader)\n",
        "  print(reader_list[0])\n",
        "  print(reader)\n",
        "  print(type(reader))\n",
        "  for row in reader:\n",
        "    print(row)\n",
        "  print(reader_list[0][0][0])"
      ],
      "execution_count": 113,
      "outputs": [
        {
          "output_type": "stream",
          "text": [
            "[\"10001,'1953-09-02','Georgi','Facello','M','1986-06-26'\"]\n",
            "<_csv.reader object at 0x7f3dd9171cd0>\n",
            "<class '_csv.reader'>\n",
            "1\n"
          ],
          "name": "stdout"
        }
      ]
    },
    {
      "cell_type": "code",
      "metadata": {
        "id": "tYAfl9lzYN0L"
      },
      "source": [
        "table.put('row 1', {'employee:': '17.33', 'cf1:col8': '344'})"
      ],
      "execution_count": null,
      "outputs": []
    },
    {
      "cell_type": "code",
      "metadata": {
        "id": "1YPFlnc7VLK-"
      },
      "source": [
        "res=table.scan()"
      ],
      "execution_count": 102,
      "outputs": []
    },
    {
      "cell_type": "code",
      "metadata": {
        "colab": {
          "base_uri": "https://localhost:8080/",
          "height": 324
        },
        "id": "lN8TOl1oVLNt",
        "outputId": "9cd531ec-68d4-4a13-b2a4-9534a64dc343"
      },
      "source": [
        "for key,row in res:\n",
        "    print(key,row)"
      ],
      "execution_count": 103,
      "outputs": [
        {
          "output_type": "error",
          "ename": "TTransportException",
          "evalue": "ignored",
          "traceback": [
            "\u001b[0;31m---------------------------------------------------------------------------\u001b[0m",
            "\u001b[0;31mTTransportException\u001b[0m                       Traceback (most recent call last)",
            "\u001b[0;32m<ipython-input-103-61823adbd7d4>\u001b[0m in \u001b[0;36m<module>\u001b[0;34m()\u001b[0m\n\u001b[0;32m----> 1\u001b[0;31m \u001b[0;32mfor\u001b[0m \u001b[0mkey\u001b[0m\u001b[0;34m,\u001b[0m\u001b[0mrow\u001b[0m \u001b[0;32min\u001b[0m \u001b[0mres\u001b[0m\u001b[0;34m:\u001b[0m\u001b[0;34m\u001b[0m\u001b[0;34m\u001b[0m\u001b[0m\n\u001b[0m\u001b[1;32m      2\u001b[0m     \u001b[0mprint\u001b[0m\u001b[0;34m(\u001b[0m\u001b[0mkey\u001b[0m\u001b[0;34m,\u001b[0m\u001b[0mrow\u001b[0m\u001b[0;34m)\u001b[0m\u001b[0;34m\u001b[0m\u001b[0;34m\u001b[0m\u001b[0m\n",
            "\u001b[0;32m/usr/local/lib/python3.7/site-packages/happybase/table.py\u001b[0m in \u001b[0;36mscan\u001b[0;34m(self, row_start, row_stop, row_prefix, columns, filter, timestamp, include_timestamp, batch_size, scan_batching, limit, sorted_columns, reverse)\u001b[0m\n\u001b[1;32m    400\u001b[0m             )\n\u001b[1;32m    401\u001b[0m             scan_id = self.connection.client.scannerOpenWithScan(\n\u001b[0;32m--> 402\u001b[0;31m                 self.name, scan, {})\n\u001b[0m\u001b[1;32m    403\u001b[0m \u001b[0;34m\u001b[0m\u001b[0m\n\u001b[1;32m    404\u001b[0m         \u001b[0mlogger\u001b[0m\u001b[0;34m.\u001b[0m\u001b[0mdebug\u001b[0m\u001b[0;34m(\u001b[0m\u001b[0;34m\"Opened scanner (id=%d) on '%s'\"\u001b[0m\u001b[0;34m,\u001b[0m \u001b[0mscan_id\u001b[0m\u001b[0;34m,\u001b[0m \u001b[0mself\u001b[0m\u001b[0;34m.\u001b[0m\u001b[0mname\u001b[0m\u001b[0;34m)\u001b[0m\u001b[0;34m\u001b[0m\u001b[0;34m\u001b[0m\u001b[0m\n",
            "\u001b[0;32m/usr/local/lib/python3.7/site-packages/thriftpy2/thrift.py\u001b[0m in \u001b[0;36m_req\u001b[0;34m(self, _api, *args, **kwargs)\u001b[0m\n\u001b[1;32m    217\u001b[0m         \u001b[0;31m# wait result only if non-oneway\u001b[0m\u001b[0;34m\u001b[0m\u001b[0;34m\u001b[0m\u001b[0;34m\u001b[0m\u001b[0m\n\u001b[1;32m    218\u001b[0m         \u001b[0;32mif\u001b[0m \u001b[0;32mnot\u001b[0m \u001b[0mgetattr\u001b[0m\u001b[0;34m(\u001b[0m\u001b[0mresult_cls\u001b[0m\u001b[0;34m,\u001b[0m \u001b[0;34m\"oneway\"\u001b[0m\u001b[0;34m)\u001b[0m\u001b[0;34m:\u001b[0m\u001b[0;34m\u001b[0m\u001b[0;34m\u001b[0m\u001b[0m\n\u001b[0;32m--> 219\u001b[0;31m             \u001b[0;32mreturn\u001b[0m \u001b[0mself\u001b[0m\u001b[0;34m.\u001b[0m\u001b[0m_recv\u001b[0m\u001b[0;34m(\u001b[0m\u001b[0m_api\u001b[0m\u001b[0;34m)\u001b[0m\u001b[0;34m\u001b[0m\u001b[0;34m\u001b[0m\u001b[0m\n\u001b[0m\u001b[1;32m    220\u001b[0m \u001b[0;34m\u001b[0m\u001b[0m\n\u001b[1;32m    221\u001b[0m     \u001b[0;32mdef\u001b[0m \u001b[0m_send\u001b[0m\u001b[0;34m(\u001b[0m\u001b[0mself\u001b[0m\u001b[0;34m,\u001b[0m \u001b[0m_api\u001b[0m\u001b[0;34m,\u001b[0m \u001b[0;34m**\u001b[0m\u001b[0mkwargs\u001b[0m\u001b[0;34m)\u001b[0m\u001b[0;34m:\u001b[0m\u001b[0;34m\u001b[0m\u001b[0;34m\u001b[0m\u001b[0m\n",
            "\u001b[0;32m/usr/local/lib/python3.7/site-packages/thriftpy2/thrift.py\u001b[0m in \u001b[0;36m_recv\u001b[0;34m(self, _api)\u001b[0m\n\u001b[1;32m    229\u001b[0m \u001b[0;34m\u001b[0m\u001b[0m\n\u001b[1;32m    230\u001b[0m     \u001b[0;32mdef\u001b[0m \u001b[0m_recv\u001b[0m\u001b[0;34m(\u001b[0m\u001b[0mself\u001b[0m\u001b[0;34m,\u001b[0m \u001b[0m_api\u001b[0m\u001b[0;34m)\u001b[0m\u001b[0;34m:\u001b[0m\u001b[0;34m\u001b[0m\u001b[0;34m\u001b[0m\u001b[0m\n\u001b[0;32m--> 231\u001b[0;31m         \u001b[0mfname\u001b[0m\u001b[0;34m,\u001b[0m \u001b[0mmtype\u001b[0m\u001b[0;34m,\u001b[0m \u001b[0mrseqid\u001b[0m \u001b[0;34m=\u001b[0m \u001b[0mself\u001b[0m\u001b[0;34m.\u001b[0m\u001b[0m_iprot\u001b[0m\u001b[0;34m.\u001b[0m\u001b[0mread_message_begin\u001b[0m\u001b[0;34m(\u001b[0m\u001b[0;34m)\u001b[0m\u001b[0;34m\u001b[0m\u001b[0;34m\u001b[0m\u001b[0m\n\u001b[0m\u001b[1;32m    232\u001b[0m         \u001b[0;32mif\u001b[0m \u001b[0mmtype\u001b[0m \u001b[0;34m==\u001b[0m \u001b[0mTMessageType\u001b[0m\u001b[0;34m.\u001b[0m\u001b[0mEXCEPTION\u001b[0m\u001b[0;34m:\u001b[0m\u001b[0;34m\u001b[0m\u001b[0;34m\u001b[0m\u001b[0m\n\u001b[1;32m    233\u001b[0m             \u001b[0mx\u001b[0m \u001b[0;34m=\u001b[0m \u001b[0mTApplicationException\u001b[0m\u001b[0;34m(\u001b[0m\u001b[0;34m)\u001b[0m\u001b[0;34m\u001b[0m\u001b[0;34m\u001b[0m\u001b[0m\n",
            "\u001b[0;32m/usr/local/lib/python3.7/site-packages/thriftpy2/protocol/cybin/cybin.pyx\u001b[0m in \u001b[0;36mcybin.TCyBinaryProtocol.read_message_begin\u001b[0;34m()\u001b[0m\n",
            "\u001b[0;32m/usr/local/lib/python3.7/site-packages/thriftpy2/protocol/cybin/cybin.pyx\u001b[0m in \u001b[0;36mcybin.read_i32\u001b[0;34m()\u001b[0m\n",
            "\u001b[0;32m/usr/local/lib/python3.7/site-packages/thriftpy2/transport/buffered/cybuffered.pyx\u001b[0m in \u001b[0;36mthriftpy2.transport.buffered.cybuffered.TCyBufferedTransport.c_read\u001b[0;34m()\u001b[0m\n",
            "\u001b[0;32m/usr/local/lib/python3.7/site-packages/thriftpy2/transport/buffered/cybuffered.pyx\u001b[0m in \u001b[0;36mthriftpy2.transport.buffered.cybuffered.TCyBufferedTransport.read_trans\u001b[0;34m()\u001b[0m\n",
            "\u001b[0;32m/usr/local/lib/python3.7/site-packages/thriftpy2/transport/cybase.pyx\u001b[0m in \u001b[0;36mthriftpy2.transport.cybase.TCyBuffer.read_trans\u001b[0;34m()\u001b[0m\n",
            "\u001b[0;32m/usr/local/lib/python3.7/site-packages/thriftpy2/transport/socket.py\u001b[0m in \u001b[0;36mread\u001b[0;34m(self, sz)\u001b[0m\n\u001b[1;32m    130\u001b[0m         \u001b[0;32mif\u001b[0m \u001b[0mlen\u001b[0m\u001b[0;34m(\u001b[0m\u001b[0mbuff\u001b[0m\u001b[0;34m)\u001b[0m \u001b[0;34m==\u001b[0m \u001b[0;36m0\u001b[0m\u001b[0;34m:\u001b[0m\u001b[0;34m\u001b[0m\u001b[0;34m\u001b[0m\u001b[0m\n\u001b[1;32m    131\u001b[0m             raise TTransportException(type=TTransportException.END_OF_FILE,\n\u001b[0;32m--> 132\u001b[0;31m                                       message='TSocket read 0 bytes')\n\u001b[0m\u001b[1;32m    133\u001b[0m         \u001b[0;32mreturn\u001b[0m \u001b[0mbuff\u001b[0m\u001b[0;34m\u001b[0m\u001b[0;34m\u001b[0m\u001b[0m\n\u001b[1;32m    134\u001b[0m \u001b[0;34m\u001b[0m\u001b[0m\n",
            "\u001b[0;31mTTransportException\u001b[0m: TTransportException(type=4, message='TSocket read 0 bytes')"
          ]
        }
      ]
    }
  ]
}